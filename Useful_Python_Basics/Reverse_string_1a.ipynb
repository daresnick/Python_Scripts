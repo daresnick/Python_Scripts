{
 "cells": [
  {
   "cell_type": "markdown",
   "metadata": {
    "toc": true
   },
   "source": [
    "<h1>Table of Contents<span class=\"tocSkip\"></span></h1>\n",
    "<div class=\"toc\"><ul class=\"toc-item\"><li><span><a href=\"#Here-are-some-different-ways-to-reverse-a-string-using-Python-3.\" data-toc-modified-id=\"Here-are-some-different-ways-to-reverse-a-string-using-Python-3.-1\"><span class=\"toc-item-num\">1&nbsp;&nbsp;</span>Here are some different ways to reverse a string using Python 3.</a></span></li></ul></div>"
   ]
  },
  {
   "cell_type": "markdown",
   "metadata": {},
   "source": [
    "### Here are some different ways to reverse a string using Python 3."
   ]
  },
  {
   "cell_type": "code",
   "execution_count": 3,
   "metadata": {
    "ExecuteTime": {
     "end_time": "2019-09-18T22:02:16.784195Z",
     "start_time": "2019-09-18T22:02:16.769205Z"
    }
   },
   "outputs": [
    {
     "name": "stdout",
     "output_type": "stream",
     "text": [
      "[9, 7, 5, 1]\n",
      "kcinser nomad\n",
      "kcinser nomad\n",
      "kcinser nomad\n",
      "kcinser nomad\n"
     ]
    }
   ],
   "source": [
    "# Different ways to reverse a string\n",
    "\n",
    "l = [1,5,7,9] # here is a list as well\n",
    "st = 'damon resnick' # the string to reverse\n",
    "\n",
    "print(l[::-1]) # reverse a list with indexing or slicing\n",
    "\n",
    "print(st[::-1]) # reverse a string with indexingor slicing\n",
    "\n",
    "print(''.join(reversed(st))) # reverse a string with join and the reversed functions\n",
    "\n",
    "rev=''\n",
    "for i in range(len(st)):\n",
    "    rev+=st[-1 - i]\n",
    "print(rev) # reverse a string with a loop\n",
    "\n",
    "rev=[]\n",
    "for i in range(len(st)):\n",
    "    rev.append(st[-i - 1])\n",
    "print(''.join(rev)) # reverse a string by reversing a list then using the join function to join the parts of the list"
   ]
  },
  {
   "cell_type": "code",
   "execution_count": null,
   "metadata": {},
   "outputs": [],
   "source": []
  },
  {
   "cell_type": "code",
   "execution_count": null,
   "metadata": {},
   "outputs": [],
   "source": []
  },
  {
   "cell_type": "code",
   "execution_count": null,
   "metadata": {},
   "outputs": [],
   "source": []
  },
  {
   "cell_type": "code",
   "execution_count": null,
   "metadata": {},
   "outputs": [],
   "source": []
  }
 ],
 "metadata": {
  "kernelspec": {
   "display_name": "Python 3",
   "language": "python",
   "name": "python3"
  },
  "language_info": {
   "codemirror_mode": {
    "name": "ipython",
    "version": 3
   },
   "file_extension": ".py",
   "mimetype": "text/x-python",
   "name": "python",
   "nbconvert_exporter": "python",
   "pygments_lexer": "ipython3",
   "version": "3.7.0"
  },
  "toc": {
   "base_numbering": 1,
   "nav_menu": {},
   "number_sections": true,
   "sideBar": true,
   "skip_h1_title": false,
   "title_cell": "Table of Contents",
   "title_sidebar": "Contents",
   "toc_cell": true,
   "toc_position": {},
   "toc_section_display": true,
   "toc_window_display": false
  },
  "varInspector": {
   "cols": {
    "lenName": 16,
    "lenType": 16,
    "lenVar": 40
   },
   "kernels_config": {
    "python": {
     "delete_cmd_postfix": "",
     "delete_cmd_prefix": "del ",
     "library": "var_list.py",
     "varRefreshCmd": "print(var_dic_list())"
    },
    "r": {
     "delete_cmd_postfix": ") ",
     "delete_cmd_prefix": "rm(",
     "library": "var_list.r",
     "varRefreshCmd": "cat(var_dic_list()) "
    }
   },
   "types_to_exclude": [
    "module",
    "function",
    "builtin_function_or_method",
    "instance",
    "_Feature"
   ],
   "window_display": false
  }
 },
 "nbformat": 4,
 "nbformat_minor": 2
}
