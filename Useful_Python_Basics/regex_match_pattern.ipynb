{
 "cells": [
  {
   "cell_type": "markdown",
   "metadata": {
    "toc": true
   },
   "source": [
    "<h1>Table of Contents<span class=\"tocSkip\"></span></h1>\n",
    "<div class=\"toc\"><ul class=\"toc-item\"><li><span><a href=\"#Regex-basics-and-examples\" data-toc-modified-id=\"Regex-basics-and-examples-1\"><span class=\"toc-item-num\">1&nbsp;&nbsp;</span>Regex basics and examples</a></span></li></ul></div>"
   ]
  },
  {
   "cell_type": "markdown",
   "metadata": {},
   "source": [
    "## Regex basics and examples"
   ]
  },
  {
   "cell_type": "code",
   "execution_count": 1,
   "metadata": {
    "ExecuteTime": {
     "end_time": "2019-09-24T17:37:48.359249Z",
     "start_time": "2019-09-24T17:37:48.354251Z"
    }
   },
   "outputs": [],
   "source": [
    "import re"
   ]
  },
  {
   "cell_type": "markdown",
   "metadata": {},
   "source": [
    "Special characters\n",
    "Simple characters and numbers are mapped onto themselves:\n",
    "a → a  \n",
    "A → A  \n",
    "1 → 1  \n",
    "Dot maps to anything:  \n",
    ". → any character  \n",
    ". → 'a' , '1' , '\"' , ' ' , ...  \n",
    "\\. → ."
   ]
  },
  {
   "cell_type": "markdown",
   "metadata": {},
   "source": [
    "Special characters  \n",
    "The following metacharacters represent \\ followed by a letter:  \n",
    "\\w → any alphanumeric character or underscore  \n",
    "\\w → '1' , 'a' , '_' , ...  \n",
    "\\d → any digit  \n",
    "\\d → '1' , '2' , '3' , ...  \n",
    "\\s → any whitespace character  \n",
    "\\s → ' ' , '\\t' , ...  "
   ]
  },
  {
   "cell_type": "markdown",
   "metadata": {},
   "source": [
    "Square brackets  \n",
    "Several metacharacters can be enclosed in square brackets:  \n",
    "[aAbB] → a , A , b , B  \n",
    "[a-z] → a , b , c , ...  \n",
    "[A-Z] → A , B , C , ...  \n",
    "[0-9] → 0 , 1 , 2 , ...  \n",
    "[A-Za-z] → A , B , C , ..., a , b , c , ...  "
   ]
  },
  {
   "cell_type": "markdown",
   "metadata": {},
   "source": [
    "Repetitions  \n",
    "? * → no character or it repeats an undefined number of times  \n",
    "a * → '' , 'a' , 'aa' , ...  \n",
    "?+ → the character is present at least once  \n",
    "a+ → 'a' , 'aa' , 'aaa' , ...  \n",
    "? → the character exists or not  \n",
    "a? → '' , 'a'  \n",
    "{n, m} → the character is present from n to m times  \n",
    "a{2, 4} → 'aa' , 'aaa' , 'aaaa'  "
   ]
  },
  {
   "cell_type": "code",
   "execution_count": 2,
   "metadata": {
    "ExecuteTime": {
     "end_time": "2019-09-24T17:37:49.140765Z",
     "start_time": "2019-09-24T17:37:49.136767Z"
    }
   },
   "outputs": [],
   "source": [
    "# find the valid temperatures in this line of text\n",
    "text = \"Let's consider the following temperatures using the Celsius scale: +23 C, 0 C, -20.0 C, -2.2 C, -5.65 C, 0.0001 C. To convert them to the Fahrenheit scale you have multiply the number by 9/5 and add 32 to the result. Therefore, the corresponding temperatures in the Fahrenheit scale will be: +73.4 F, 32 F, -4.0 F, +28.04 F, 21.83 F, +32.00018 F.\"\n"
   ]
  },
  {
   "cell_type": "code",
   "execution_count": 3,
   "metadata": {
    "ExecuteTime": {
     "end_time": "2019-09-24T17:37:49.159752Z",
     "start_time": "2019-09-24T17:37:49.144761Z"
    }
   },
   "outputs": [
    {
     "name": "stdout",
     "output_type": "stream",
     "text": [
      "['+23 C', '0 C', '-20.0 C', '-2.2 C', '-5.65 C', '0.0001 C', '+73.4 F', '32 F', '-4.0 F', '+28.04 F', '21.83 F', '+32.00018 F']\n"
     ]
    }
   ],
   "source": [
    "# [+-]? means to look for + and - characters but they might not be there\n",
    "# d+ means any digit\n",
    "# \\.?\\d* means the digit may be followed by any other digits\n",
    "# [CF] mean to look for C or F letters\n",
    "\n",
    "# Define the pattern to search for valid temperatures\n",
    "pattern = re.compile(r'[+-]?\\d+\\.?\\d* [CF]') \n",
    "\n",
    "# Print the temperatures out\n",
    "matches = re.findall(pattern, text)\n",
    "print(matches)"
   ]
  },
  {
   "cell_type": "code",
   "execution_count": 4,
   "metadata": {
    "ExecuteTime": {
     "end_time": "2019-09-24T17:37:49.186735Z",
     "start_time": "2019-09-24T17:37:49.164749Z"
    }
   },
   "outputs": [
    {
     "data": {
      "text/plain": [
       "['+23 C', '0 C', '-20.0 C', '-2.2 C', '-5.65 C', '0.0001 C']"
      ]
     },
     "execution_count": 4,
     "metadata": {},
     "output_type": "execute_result"
    }
   ],
   "source": [
    "matches[:len(matches)//2]"
   ]
  },
  {
   "cell_type": "code",
   "execution_count": 5,
   "metadata": {
    "ExecuteTime": {
     "end_time": "2019-09-24T17:37:49.204725Z",
     "start_time": "2019-09-24T17:37:49.191733Z"
    }
   },
   "outputs": [
    {
     "data": {
      "text/plain": [
       "['+73.4 F', '32 F', '-4.0 F', '+28.04 F', '21.83 F', '+32.00018 F']"
      ]
     },
     "execution_count": 5,
     "metadata": {},
     "output_type": "execute_result"
    }
   ],
   "source": [
    "matches[len(matches)//2:]"
   ]
  },
  {
   "cell_type": "code",
   "execution_count": 6,
   "metadata": {
    "ExecuteTime": {
     "end_time": "2019-09-24T17:37:49.224712Z",
     "start_time": "2019-09-24T17:37:49.207722Z"
    }
   },
   "outputs": [
    {
     "data": {
      "text/plain": [
       "{'+23 C': '+73.4 F',\n",
       " '0 C': '32 F',\n",
       " '-20.0 C': '-4.0 F',\n",
       " '-2.2 C': '+28.04 F',\n",
       " '-5.65 C': '21.83 F',\n",
       " '0.0001 C': '+32.00018 F'}"
      ]
     },
     "execution_count": 6,
     "metadata": {},
     "output_type": "execute_result"
    }
   ],
   "source": [
    "# make dictionary out of the matched text:\n",
    "d = dict(zip(matches[:len(matches)//2], matches[len(matches)//2:]))\n",
    "d"
   ]
  },
  {
   "cell_type": "code",
   "execution_count": null,
   "metadata": {},
   "outputs": [],
   "source": []
  },
  {
   "cell_type": "code",
   "execution_count": 7,
   "metadata": {
    "ExecuteTime": {
     "end_time": "2019-09-24T17:37:49.241703Z",
     "start_time": "2019-09-24T17:37:49.227710Z"
    }
   },
   "outputs": [
    {
     "name": "stdout",
     "output_type": "stream",
     "text": [
      "[' 4 years', '13 year ', '43 year ']\n"
     ]
    }
   ],
   "source": [
    "text2 = 'I was 4 years old when I saw the 13 year old brown cat jumped over the 43 year old red road.'\n",
    "# Define the pattern to search for valid years\n",
    "pattern2 = re.compile(r'\\d{1,3} year | \\d{1,3} years') \n",
    "\n",
    "# Print the temperatures out\n",
    "matches2 = re.findall(pattern2, text2)\n",
    "print(matches2)\n"
   ]
  },
  {
   "cell_type": "code",
   "execution_count": null,
   "metadata": {},
   "outputs": [],
   "source": []
  }
 ],
 "metadata": {
  "kernelspec": {
   "display_name": "Python 3",
   "language": "python",
   "name": "python3"
  },
  "language_info": {
   "codemirror_mode": {
    "name": "ipython",
    "version": 3
   },
   "file_extension": ".py",
   "mimetype": "text/x-python",
   "name": "python",
   "nbconvert_exporter": "python",
   "pygments_lexer": "ipython3",
   "version": "3.7.0"
  },
  "toc": {
   "base_numbering": 1,
   "nav_menu": {},
   "number_sections": true,
   "sideBar": true,
   "skip_h1_title": false,
   "title_cell": "Table of Contents",
   "title_sidebar": "Contents",
   "toc_cell": true,
   "toc_position": {},
   "toc_section_display": true,
   "toc_window_display": false
  },
  "varInspector": {
   "cols": {
    "lenName": 16,
    "lenType": 16,
    "lenVar": 40
   },
   "kernels_config": {
    "python": {
     "delete_cmd_postfix": "",
     "delete_cmd_prefix": "del ",
     "library": "var_list.py",
     "varRefreshCmd": "print(var_dic_list())"
    },
    "r": {
     "delete_cmd_postfix": ") ",
     "delete_cmd_prefix": "rm(",
     "library": "var_list.r",
     "varRefreshCmd": "cat(var_dic_list()) "
    }
   },
   "types_to_exclude": [
    "module",
    "function",
    "builtin_function_or_method",
    "instance",
    "_Feature"
   ],
   "window_display": false
  }
 },
 "nbformat": 4,
 "nbformat_minor": 2
}
