{
 "cells": [
  {
   "cell_type": "markdown",
   "metadata": {
    "toc": true
   },
   "source": [
    "<h1>Table of Contents<span class=\"tocSkip\"></span></h1>\n",
    "<div class=\"toc\"><ul class=\"toc-item\"></ul></div>"
   ]
  },
  {
   "cell_type": "code",
   "execution_count": null,
   "metadata": {},
   "outputs": [],
   "source": []
  },
  {
   "cell_type": "code",
   "execution_count": 33,
   "metadata": {
    "ExecuteTime": {
     "end_time": "2019-09-18T01:15:30.163256Z",
     "start_time": "2019-09-18T01:15:30.150268Z"
    }
   },
   "outputs": [
    {
     "name": "stdout",
     "output_type": "stream",
     "text": [
      "{'a': 1, 'b': 2, 'c': 3, 'd': 5, 'e': 5}\n",
      "{1: 'a', 2: 'b', 3: 'c', 5: 'e'}\n",
      "{1: 'a', 2: 'b', 3: 'c', 5: 'e'}\n",
      "{1: ['a'], 2: ['b'], 3: ['c'], 5: ['d', 'e']}\n"
     ]
    }
   ],
   "source": [
    "# two ways to reverse a dictionary\n",
    "\n",
    "s1 = [1,2,3,5,5]\n",
    "s2 = ['a', 'b', 'c', 'd', 'e']\n",
    "\n",
    "d1 = dict(zip(s2,s1))\n",
    "print(d1)\n",
    "\n",
    "d2 = {val:key for key, val in d1.items()}\n",
    "print(d2)\n",
    "\n",
    "d3 = dict(zip(d1.values(), d1.keys()))\n",
    "print(d3)\n",
    "\n",
    "# this function will make sure that items of the same value will not be lost\n",
    "def dictinvert(d):\n",
    "    inv={}\n",
    "    for k, v in d.items():\n",
    "        keys = inv.setdefault(v, []) # sets up the new value as a list\n",
    "        keys.append(k) #appends \n",
    "    return inv\n",
    "print(dictinvert(d1))\n"
   ]
  },
  {
   "cell_type": "code",
   "execution_count": null,
   "metadata": {},
   "outputs": [],
   "source": []
  }
 ],
 "metadata": {
  "kernelspec": {
   "display_name": "Python 3",
   "language": "python",
   "name": "python3"
  },
  "language_info": {
   "codemirror_mode": {
    "name": "ipython",
    "version": 3
   },
   "file_extension": ".py",
   "mimetype": "text/x-python",
   "name": "python",
   "nbconvert_exporter": "python",
   "pygments_lexer": "ipython3",
   "version": "3.7.0"
  },
  "toc": {
   "base_numbering": 1,
   "nav_menu": {},
   "number_sections": true,
   "sideBar": true,
   "skip_h1_title": false,
   "title_cell": "Table of Contents",
   "title_sidebar": "Contents",
   "toc_cell": true,
   "toc_position": {},
   "toc_section_display": true,
   "toc_window_display": false
  },
  "varInspector": {
   "cols": {
    "lenName": 16,
    "lenType": 16,
    "lenVar": 40
   },
   "kernels_config": {
    "python": {
     "delete_cmd_postfix": "",
     "delete_cmd_prefix": "del ",
     "library": "var_list.py",
     "varRefreshCmd": "print(var_dic_list())"
    },
    "r": {
     "delete_cmd_postfix": ") ",
     "delete_cmd_prefix": "rm(",
     "library": "var_list.r",
     "varRefreshCmd": "cat(var_dic_list()) "
    }
   },
   "types_to_exclude": [
    "module",
    "function",
    "builtin_function_or_method",
    "instance",
    "_Feature"
   ],
   "window_display": false
  }
 },
 "nbformat": 4,
 "nbformat_minor": 2
}
