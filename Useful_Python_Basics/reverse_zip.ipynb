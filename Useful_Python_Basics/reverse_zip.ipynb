{
 "cells": [
  {
   "cell_type": "markdown",
   "metadata": {
    "toc": true
   },
   "source": [
    "<h1>Table of Contents<span class=\"tocSkip\"></span></h1>\n",
    "<div class=\"toc\"><ul class=\"toc-item\"><li><span><a href=\"#Reverse-a-python-zipped-list\" data-toc-modified-id=\"Reverse-a-python-zipped-list-1\"><span class=\"toc-item-num\">1&nbsp;&nbsp;</span>Reverse a python zipped list</a></span></li></ul></div>"
   ]
  },
  {
   "cell_type": "markdown",
   "metadata": {
    "ExecuteTime": {
     "end_time": "2019-09-24T17:40:27.012603Z",
     "start_time": "2019-09-24T17:40:27.007608Z"
    }
   },
   "source": [
    "## Reverse a python zipped list"
   ]
  },
  {
   "cell_type": "code",
   "execution_count": 1,
   "metadata": {
    "ExecuteTime": {
     "end_time": "2019-09-24T17:40:41.360714Z",
     "start_time": "2019-09-24T17:40:41.352719Z"
    }
   },
   "outputs": [
    {
     "name": "stdout",
     "output_type": "stream",
     "text": [
      "ap\n",
      "bq\n",
      "cr\n",
      "ds\n"
     ]
    }
   ],
   "source": [
    "# just having fun\n",
    "list1 = ['a', 'b', 'c', 'd']\n",
    "list2 = ['p', 'q', 'r', 's']\n",
    "\n",
    "for x, y in zip(list1,list2):\n",
    "    print(x+y)"
   ]
  },
  {
   "cell_type": "code",
   "execution_count": 2,
   "metadata": {
    "ExecuteTime": {
     "end_time": "2019-09-24T17:40:41.385699Z",
     "start_time": "2019-09-24T17:40:41.364711Z"
    }
   },
   "outputs": [
    {
     "name": "stdout",
     "output_type": "stream",
     "text": [
      "[('a', 'p'), ('b', 'q'), ('c', 'r'), ('d', 's')]\n",
      "('a', 'b', 'c', 'd')\n",
      "('p', 'q', 'r', 's')\n"
     ]
    }
   ],
   "source": [
    "# reverse a zip\n",
    "\n",
    "zippedlist = list(zip(list1, list2))\n",
    "print(zippedlist)\n",
    "\n",
    "lst1, lst2 = zip(*zippedlist)\n",
    "print(lst1)\n",
    "print(lst2)\n"
   ]
  },
  {
   "cell_type": "code",
   "execution_count": null,
   "metadata": {},
   "outputs": [],
   "source": []
  }
 ],
 "metadata": {
  "kernelspec": {
   "display_name": "Python 3",
   "language": "python",
   "name": "python3"
  },
  "language_info": {
   "codemirror_mode": {
    "name": "ipython",
    "version": 3
   },
   "file_extension": ".py",
   "mimetype": "text/x-python",
   "name": "python",
   "nbconvert_exporter": "python",
   "pygments_lexer": "ipython3",
   "version": "3.7.0"
  },
  "toc": {
   "base_numbering": 1,
   "nav_menu": {},
   "number_sections": true,
   "sideBar": true,
   "skip_h1_title": false,
   "title_cell": "Table of Contents",
   "title_sidebar": "Contents",
   "toc_cell": true,
   "toc_position": {},
   "toc_section_display": true,
   "toc_window_display": false
  },
  "varInspector": {
   "cols": {
    "lenName": 16,
    "lenType": 16,
    "lenVar": 40
   },
   "kernels_config": {
    "python": {
     "delete_cmd_postfix": "",
     "delete_cmd_prefix": "del ",
     "library": "var_list.py",
     "varRefreshCmd": "print(var_dic_list())"
    },
    "r": {
     "delete_cmd_postfix": ") ",
     "delete_cmd_prefix": "rm(",
     "library": "var_list.r",
     "varRefreshCmd": "cat(var_dic_list()) "
    }
   },
   "types_to_exclude": [
    "module",
    "function",
    "builtin_function_or_method",
    "instance",
    "_Feature"
   ],
   "window_display": false
  }
 },
 "nbformat": 4,
 "nbformat_minor": 2
}
